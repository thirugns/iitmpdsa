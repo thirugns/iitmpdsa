{
  "nbformat": 4,
  "nbformat_minor": 0,
  "metadata": {
    "colab": {
      "provenance": [],
      "collapsed_sections": [
        "2_naiT0t7-xq",
        "bCgx33gCCJu9",
        "uYcEn_FBFdL4"
      ],
      "authorship_tag": "ABX9TyMiKDqgr5NUp4hqDpqgqr24",
      "include_colab_link": true
    },
    "kernelspec": {
      "name": "python3",
      "display_name": "Python 3"
    },
    "language_info": {
      "name": "python"
    }
  },
  "cells": [
    {
      "cell_type": "markdown",
      "metadata": {
        "id": "view-in-github",
        "colab_type": "text"
      },
      "source": [
        "<a href=\"https://colab.research.google.com/github/thirugns/iitmpdsa/blob/main/LearningPython.ipynb\" target=\"_parent\"><img src=\"https://colab.research.google.com/assets/colab-badge.svg\" alt=\"Open In Colab\"/></a>"
      ]
    },
    {
      "cell_type": "markdown",
      "source": [
        "#Hello World in Python"
      ],
      "metadata": {
        "id": "2_naiT0t7-xq"
      }
    },
    {
      "cell_type": "code",
      "execution_count": 2,
      "metadata": {
        "colab": {
          "base_uri": "https://localhost:8080/"
        },
        "id": "uLzivRRO9aRB",
        "outputId": "cc618c1c-f7b0-4622-c3ed-19dd536a731b"
      },
      "outputs": [
        {
          "output_type": "stream",
          "name": "stdout",
          "text": [
            "Hello World!\n",
            "\n"
          ]
        }
      ],
      "source": [
        "print(\"Hello World!\\n\")"
      ]
    },
    {
      "cell_type": "markdown",
      "source": [
        "#Using print(f\"...{..}\")"
      ],
      "metadata": {
        "id": "bCgx33gCCJu9"
      }
    },
    {
      "cell_type": "code",
      "source": [
        "name=input(\"what is your name? :\")\n",
        "print(f\"Hello {name}!\")"
      ],
      "metadata": {
        "colab": {
          "base_uri": "https://localhost:8080/"
        },
        "id": "FW6sDop0B0GJ",
        "outputId": "ed33fc8d-d800-4de0-bf40-c1c2a1a42357"
      },
      "execution_count": 5,
      "outputs": [
        {
          "output_type": "stream",
          "name": "stdout",
          "text": [
            "what is your name? :sundar\n",
            "Hello sundar!\n"
          ]
        }
      ]
    },
    {
      "cell_type": "markdown",
      "source": [
        "#Variables & Data types"
      ],
      "metadata": {
        "id": "mz8VsfzXCz2W"
      }
    },
    {
      "cell_type": "code",
      "source": [
        "counter = 0\n",
        "(name, age, sex)=(\"Sundar\",28,'M')\n",
        "print(counter)\n",
        "print(name,age,sex)\n",
        "\n",
        "counter += 1\n",
        "print(counter)\n",
        "\n",
        "# bool, float, int, str are the data types available in python\n",
        "\n",
        "pi = 3.14\n",
        "print(pi)\n",
        "print(type(pi))\n",
        "\n",
        "\n",
        "truth = True\n",
        "\n",
        "print(truth)\n",
        "print(type(truth))\n",
        "\n",
        "print(name)\n",
        "print(type(name))\n",
        "\n",
        "print(age)\n",
        "print(type(age))\n",
        "\n",
        "x=input()\n",
        "y=input()\n",
        "\n",
        "print(x+y) # here the input is concatenated as the input returns a str\n",
        "\n",
        "x=int(input()) #convert the input to integer\n",
        "y=int(input()) #convert the input to integer\n",
        "\n",
        "print(x+y)\n",
        "\n",
        "# There are data structures like range, list, tuple, dict, set that we look at later\n",
        "\n"
      ],
      "metadata": {
        "colab": {
          "base_uri": "https://localhost:8080/"
        },
        "id": "20Ln9X5cC2wQ",
        "outputId": "ad89e625-7e14-4b57-c11d-a6ea7efbadb8"
      },
      "execution_count": 10,
      "outputs": [
        {
          "output_type": "stream",
          "name": "stdout",
          "text": [
            "0\n",
            "Sundar 28 M\n",
            "1\n",
            "3.14\n",
            "<class 'float'>\n",
            "True\n",
            "<class 'bool'>\n",
            "Sundar\n",
            "<class 'str'>\n",
            "28\n",
            "<class 'int'>\n",
            "10\n",
            "20\n",
            "1020\n",
            "10\n",
            "20\n",
            "30\n"
          ]
        }
      ]
    },
    {
      "cell_type": "code",
      "source": [],
      "metadata": {
        "id": "nS_dg53CDfKC"
      },
      "execution_count": null,
      "outputs": []
    },
    {
      "cell_type": "markdown",
      "source": [
        "#Importing libraraies"
      ],
      "metadata": {
        "id": "uYcEn_FBFdL4"
      }
    },
    {
      "cell_type": "code",
      "source": [
        "# import math will import all the functions in the math library\n",
        "\n",
        "from math import sqrt #this will import only the sqrt function from the math library\n",
        "\n",
        "num = int(input(\"Enter an integer:\"))\n",
        "\n",
        "print(int(math.sqrt(num)))\n",
        "\n"
      ],
      "metadata": {
        "colab": {
          "base_uri": "https://localhost:8080/"
        },
        "id": "PWzgdUrbGI3U",
        "outputId": "dac4ee81-0a11-4800-e23c-754a59a024a3"
      },
      "execution_count": 14,
      "outputs": [
        {
          "output_type": "stream",
          "name": "stdout",
          "text": [
            "Enter an integer:144\n",
            "12\n"
          ]
        }
      ]
    },
    {
      "cell_type": "markdown",
      "source": [
        "# Decision making"
      ],
      "metadata": {
        "id": "8ri61Zt3HQxj"
      }
    },
    {
      "cell_type": "code",
      "source": [
        "#using the if... elif ... else construct\n",
        "(n1, n2) = (100,100)\n",
        "if n1 > n2:\n",
        "  print(\"n1 is greater than n2\")\n",
        "elif n1 == n2:\n",
        "  print(\"n1 is equal to n2\")\n",
        "else:\n",
        "  print(\"n1 is less than n2\")\n",
        "\n"
      ],
      "metadata": {
        "colab": {
          "base_uri": "https://localhost:8080/"
        },
        "id": "OeLzXSxUHU-w",
        "outputId": "dfeb9d81-2b33-4c4c-fefe-0a6865050f1a"
      },
      "execution_count": 17,
      "outputs": [
        {
          "output_type": "stream",
          "name": "stdout",
          "text": [
            "n1 is equal to n2\n"
          ]
        }
      ]
    },
    {
      "cell_type": "code",
      "source": [
        "s1=input(\"Enter a string:\")\n",
        "s2=input(\"Enter another string:\")\n",
        "\n",
        "if s1 == s2:\n",
        "  print(\"The strings are equal\")\n",
        "else:\n",
        "  print(\"The strings are not equal\")\n"
      ],
      "metadata": {
        "colab": {
          "base_uri": "https://localhost:8080/"
        },
        "id": "3watZ8-2Hww-",
        "outputId": "04e92c4f-fd2c-4c3e-f2b1-22959f5548a7"
      },
      "execution_count": 20,
      "outputs": [
        {
          "output_type": "stream",
          "name": "stdout",
          "text": [
            "Enter a string:jane\n",
            "Enter another string:doe\n",
            "The strings are not equal\n"
          ]
        }
      ]
    },
    {
      "cell_type": "code",
      "source": [
        "agreed=input(\"Do you agree?\")\n",
        "if agreed == 'y' or agreed == \"Y\":\n",
        "  print(\"Agreed\")\n",
        "elif agreed == 'n'or agreed == \"N\":\n",
        "  print(\"Not agreed\")"
      ],
      "metadata": {
        "colab": {
          "base_uri": "https://localhost:8080/"
        },
        "id": "gzJs_v3YJCCy",
        "outputId": "30f6428f-7479-409a-967e-20993c1c0229"
      },
      "execution_count": 26,
      "outputs": [
        {
          "output_type": "stream",
          "name": "stdout",
          "text": [
            "Do you agree?Y\n",
            "Agreed\n"
          ]
        }
      ]
    },
    {
      "cell_type": "code",
      "source": [
        "agreed=input(\"Do you agree?\")\n",
        "if agreed in [\"y\",\"Y\",\"Yes\",\"yes\"]:\n",
        "  print(\"Agreed\")\n",
        "elif agreed in [\"n\", \"N\",\"No\", \"no\"]:\n",
        "  print(\"Not agreed\")"
      ],
      "metadata": {
        "colab": {
          "base_uri": "https://localhost:8080/"
        },
        "id": "yjHBxU6kJe1T",
        "outputId": "3d68151c-39e1-4895-f9c5-12f1a314ab18"
      },
      "execution_count": 31,
      "outputs": [
        {
          "output_type": "stream",
          "name": "stdout",
          "text": [
            "Do you agree?yes\n",
            "Agreed\n"
          ]
        }
      ]
    },
    {
      "cell_type": "code",
      "source": [
        "agreed=input(\"Do you agree?\")\n",
        "if agreed.upper() in [\"Y\",\"YES\"]:\n",
        "  print(\"Agreed\")\n",
        "elif agreed.upper() in [\"N\",\"NO\"]:\n",
        "  print(\"Not agreed\")"
      ],
      "metadata": {
        "colab": {
          "base_uri": "https://localhost:8080/"
        },
        "id": "QxtKPtVxJ45i",
        "outputId": "8110bc89-55ec-49d3-e2a2-4866c0be26e2"
      },
      "execution_count": 36,
      "outputs": [
        {
          "output_type": "stream",
          "name": "stdout",
          "text": [
            "Do you agree?no\n",
            "Not agreed\n"
          ]
        }
      ]
    }
  ]
}