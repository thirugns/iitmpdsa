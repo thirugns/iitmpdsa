{
  "nbformat": 4,
  "nbformat_minor": 0,
  "metadata": {
    "colab": {
      "provenance": [],
      "collapsed_sections": [
        "2_naiT0t7-xq",
        "bCgx33gCCJu9",
        "uYcEn_FBFdL4"
      ],
      "authorship_tag": "ABX9TyOs9Q8KxCh/ZvHDYNLaZi7u",
      "include_colab_link": true
    },
    "kernelspec": {
      "name": "python3",
      "display_name": "Python 3"
    },
    "language_info": {
      "name": "python"
    }
  },
  "cells": [
    {
      "cell_type": "markdown",
      "metadata": {
        "id": "view-in-github",
        "colab_type": "text"
      },
      "source": [
        "<a href=\"https://colab.research.google.com/github/thirugns/iitmpdsa/blob/main/LearningPython.ipynb\" target=\"_parent\"><img src=\"https://colab.research.google.com/assets/colab-badge.svg\" alt=\"Open In Colab\"/></a>"
      ]
    },
    {
      "cell_type": "markdown",
      "source": [
        "#Hello World in Python"
      ],
      "metadata": {
        "id": "2_naiT0t7-xq"
      }
    },
    {
      "cell_type": "code",
      "execution_count": 2,
      "metadata": {
        "colab": {
          "base_uri": "https://localhost:8080/"
        },
        "id": "uLzivRRO9aRB",
        "outputId": "cc618c1c-f7b0-4622-c3ed-19dd536a731b"
      },
      "outputs": [
        {
          "output_type": "stream",
          "name": "stdout",
          "text": [
            "Hello World!\n",
            "\n"
          ]
        }
      ],
      "source": [
        "print(\"Hello World!\\n\")"
      ]
    },
    {
      "cell_type": "markdown",
      "source": [
        "#Using print(f\"...{..}\")"
      ],
      "metadata": {
        "id": "bCgx33gCCJu9"
      }
    },
    {
      "cell_type": "code",
      "source": [
        "name=input(\"what is your name? :\")\n",
        "print(f\"Hello {name}!\")"
      ],
      "metadata": {
        "colab": {
          "base_uri": "https://localhost:8080/"
        },
        "id": "FW6sDop0B0GJ",
        "outputId": "ed33fc8d-d800-4de0-bf40-c1c2a1a42357"
      },
      "execution_count": 5,
      "outputs": [
        {
          "output_type": "stream",
          "name": "stdout",
          "text": [
            "what is your name? :sundar\n",
            "Hello sundar!\n"
          ]
        }
      ]
    },
    {
      "cell_type": "markdown",
      "source": [
        "#Variables & Data types"
      ],
      "metadata": {
        "id": "mz8VsfzXCz2W"
      }
    },
    {
      "cell_type": "code",
      "source": [
        "counter = 0\n",
        "(name, age, sex)=(\"Jason\",28,'M')\n",
        "print(counter)\n",
        "print(name,age,sex)\n",
        "\n",
        "counter += 1\n",
        "print(counter)\n",
        "\n",
        "# bool, float, int, str are the data types available in python\n",
        "\n",
        "pi = 3.14\n",
        "print(pi)\n",
        "print(type(pi))\n",
        "\n",
        "\n",
        "truth = True\n",
        "\n",
        "print(truth)\n",
        "print(type(truth))\n",
        "\n",
        "print(name)\n",
        "print(type(name))\n",
        "\n",
        "print(age)\n",
        "print(type(age))\n",
        "\n",
        "x=input()\n",
        "y=input()\n",
        "\n",
        "print(x+y) # here the input is concatenated as the input returns a str\n",
        "\n",
        "x=int(input()) #convert the input to integer\n",
        "y=int(input()) #convert the input to integer\n",
        "\n",
        "print(x+y)\n",
        "\n",
        "# There are data structures like range, list, tuple, dict, set that we look at later\n",
        "\n"
      ],
      "metadata": {
        "colab": {
          "base_uri": "https://localhost:8080/"
        },
        "id": "20Ln9X5cC2wQ",
        "outputId": "ad89e625-7e14-4b57-c11d-a6ea7efbadb8"
      },
      "execution_count": 10,
      "outputs": [
        {
          "output_type": "stream",
          "name": "stdout",
          "text": [
            "0\n",
            "Sundar 28 M\n",
            "1\n",
            "3.14\n",
            "<class 'float'>\n",
            "True\n",
            "<class 'bool'>\n",
            "Sundar\n",
            "<class 'str'>\n",
            "28\n",
            "<class 'int'>\n",
            "10\n",
            "20\n",
            "1020\n",
            "10\n",
            "20\n",
            "30\n"
          ]
        }
      ]
    },
    {
      "cell_type": "code",
      "source": [],
      "metadata": {
        "id": "nS_dg53CDfKC"
      },
      "execution_count": null,
      "outputs": []
    },
    {
      "cell_type": "markdown",
      "source": [
        "#Importing libraraies"
      ],
      "metadata": {
        "id": "uYcEn_FBFdL4"
      }
    },
    {
      "cell_type": "code",
      "source": [
        "# import math will import all the functions in the math library\n",
        "\n",
        "from math import sqrt #this will import only the sqrt function from the math library\n",
        "\n",
        "num = int(input(\"Enter an integer:\"))\n",
        "\n",
        "print(int(math.sqrt(num)))\n",
        "\n"
      ],
      "metadata": {
        "colab": {
          "base_uri": "https://localhost:8080/"
        },
        "id": "PWzgdUrbGI3U",
        "outputId": "dac4ee81-0a11-4800-e23c-754a59a024a3"
      },
      "execution_count": 14,
      "outputs": [
        {
          "output_type": "stream",
          "name": "stdout",
          "text": [
            "Enter an integer:144\n",
            "12\n"
          ]
        }
      ]
    },
    {
      "cell_type": "markdown",
      "source": [
        "# Decision making\n",
        "\n",
        "*   Using if...elif...else\n",
        "*   Using match case"
      ],
      "metadata": {
        "id": "8ri61Zt3HQxj"
      }
    },
    {
      "cell_type": "code",
      "source": [
        "#using the if... elif ... else construct\n",
        "(n1, n2) = (100,100)\n",
        "if n1 > n2:\n",
        "  print(\"n1 is greater than n2\")\n",
        "elif n1 == n2:\n",
        "  print(\"n1 is equal to n2\")\n",
        "else:\n",
        "  print(\"n1 is less than n2\")\n",
        "\n"
      ],
      "metadata": {
        "colab": {
          "base_uri": "https://localhost:8080/"
        },
        "id": "OeLzXSxUHU-w",
        "outputId": "dfeb9d81-2b33-4c4c-fefe-0a6865050f1a"
      },
      "execution_count": 17,
      "outputs": [
        {
          "output_type": "stream",
          "name": "stdout",
          "text": [
            "n1 is equal to n2\n"
          ]
        }
      ]
    },
    {
      "cell_type": "code",
      "source": [
        "s1=input(\"Enter a string:\")\n",
        "s2=input(\"Enter another string:\")\n",
        "\n",
        "if s1 == s2:\n",
        "  print(\"The strings are equal\")\n",
        "else:\n",
        "  print(\"The strings are not equal\")\n"
      ],
      "metadata": {
        "colab": {
          "base_uri": "https://localhost:8080/"
        },
        "id": "3watZ8-2Hww-",
        "outputId": "04e92c4f-fd2c-4c3e-f2b1-22959f5548a7"
      },
      "execution_count": 20,
      "outputs": [
        {
          "output_type": "stream",
          "name": "stdout",
          "text": [
            "Enter a string:jane\n",
            "Enter another string:doe\n",
            "The strings are not equal\n"
          ]
        }
      ]
    },
    {
      "cell_type": "code",
      "source": [
        "agreed=input(\"Do you agree?\")\n",
        "if agreed == 'y' or agreed == \"Y\":\n",
        "  print(\"Agreed\")\n",
        "elif agreed == 'n'or agreed == \"N\":\n",
        "  print(\"Not agreed\")"
      ],
      "metadata": {
        "colab": {
          "base_uri": "https://localhost:8080/"
        },
        "id": "gzJs_v3YJCCy",
        "outputId": "30f6428f-7479-409a-967e-20993c1c0229"
      },
      "execution_count": 26,
      "outputs": [
        {
          "output_type": "stream",
          "name": "stdout",
          "text": [
            "Do you agree?Y\n",
            "Agreed\n"
          ]
        }
      ]
    },
    {
      "cell_type": "code",
      "source": [
        "agreed=input(\"Do you agree?\")\n",
        "if agreed in [\"y\",\"Y\",\"Yes\",\"yes\"]:\n",
        "  print(\"Agreed\")\n",
        "elif agreed in [\"n\", \"N\",\"No\", \"no\"]:\n",
        "  print(\"Not agreed\")"
      ],
      "metadata": {
        "colab": {
          "base_uri": "https://localhost:8080/"
        },
        "id": "yjHBxU6kJe1T",
        "outputId": "3d68151c-39e1-4895-f9c5-12f1a314ab18"
      },
      "execution_count": 31,
      "outputs": [
        {
          "output_type": "stream",
          "name": "stdout",
          "text": [
            "Do you agree?yes\n",
            "Agreed\n"
          ]
        }
      ]
    },
    {
      "cell_type": "code",
      "source": [
        "agreed=input(\"Do you agree?\")\n",
        "if agreed.upper() in [\"Y\",\"YES\"]:\n",
        "  print(\"Agreed\")\n",
        "elif agreed.upper() in [\"N\",\"NO\"]:\n",
        "  print(\"Not agreed\")"
      ],
      "metadata": {
        "colab": {
          "base_uri": "https://localhost:8080/"
        },
        "id": "QxtKPtVxJ45i",
        "outputId": "8110bc89-55ec-49d3-e2a2-4866c0be26e2"
      },
      "execution_count": 36,
      "outputs": [
        {
          "output_type": "stream",
          "name": "stdout",
          "text": [
            "Do you agree?no\n",
            "Not agreed\n"
          ]
        }
      ]
    },
    {
      "cell_type": "code",
      "source": [
        "# using switch when comparing one variable against multiple values\n",
        "\n",
        "num1=int(input(\"Enter a number:\"))\n",
        "match num1:\n",
        "  case 1:\n",
        "    print(\"One\")\n",
        "  case 2:\n",
        "    print(\"Two\")\n",
        "  case 3:\n",
        "    print(\"Three\")\n",
        "  case _:\n",
        "    print(\"Not one, two or three\")\n",
        "\n"
      ],
      "metadata": {
        "colab": {
          "base_uri": "https://localhost:8080/"
        },
        "id": "usySQzReLbR9",
        "outputId": "bc5cd71c-08c7-4f20-8fb5-478b492f363f"
      },
      "execution_count": 38,
      "outputs": [
        {
          "output_type": "stream",
          "name": "stdout",
          "text": [
            "Enter a number:5\n",
            "Not one, two or three\n"
          ]
        }
      ]
    },
    {
      "cell_type": "code",
      "source": [
        "language = input(\"Enter a programming language:\")\n",
        "match language.upper():\n",
        "  case \"C\":\n",
        "    print(\"C is a compiled language\")\n",
        "  case \"PYTHON\":\n",
        "    print(\"Python is an interpreted language\")\n",
        "  case _:\n",
        "    print(f\"{language} is not known to me\")"
      ],
      "metadata": {
        "colab": {
          "base_uri": "https://localhost:8080/"
        },
        "id": "RNo7XYQEL85J",
        "outputId": "24d0c125-cc79-4f80-8d9c-e544202a21cd"
      },
      "execution_count": 46,
      "outputs": [
        {
          "output_type": "stream",
          "name": "stdout",
          "text": [
            "Enter a programming language:cobra\n",
            "cobra is not known to me\n"
          ]
        }
      ]
    },
    {
      "cell_type": "markdown",
      "source": [
        "## Loops in Python"
      ],
      "metadata": {
        "id": "GDdK8z3sNGOz"
      }
    },
    {
      "cell_type": "code",
      "source": [
        "# using the for loop\n",
        "\n",
        "for i in range(10): # i will iterate from values 0 to 9\n",
        "  print(i)\n",
        "\n",
        "for _ in range(10): # when the range variable is not being used.\n",
        "  print(\"Hello\")\n",
        "\n",
        "for i in range(10,20,2): #here i starts from value 10 and continues till (20-1), incrementing by 2 in every iteration\n",
        "  print(i)\n",
        "\n",
        "for c in \"Jason\":\n",
        "  print(c.upper(),end=\"\") # the end=\"\" parameter after the string eliminates the \\n printed at the end of each print statement\n",
        "print()\n",
        "\n",
        "\n",
        "# using the while loop\n",
        "\n",
        "i=0\n",
        "while i < 10:\n",
        "  print(i)\n",
        "  i+=1\n"
      ],
      "metadata": {
        "colab": {
          "base_uri": "https://localhost:8080/"
        },
        "collapsed": true,
        "id": "nFKz2lSmNPu2",
        "outputId": "7282bed2-3762-43a2-b7a3-7f8df5238d24"
      },
      "execution_count": 53,
      "outputs": [
        {
          "output_type": "stream",
          "name": "stdout",
          "text": [
            "0\n",
            "1\n",
            "2\n",
            "3\n",
            "4\n",
            "5\n",
            "6\n",
            "7\n",
            "8\n",
            "9\n",
            "Hello\n",
            "Hello\n",
            "Hello\n",
            "Hello\n",
            "Hello\n",
            "Hello\n",
            "Hello\n",
            "Hello\n",
            "Hello\n",
            "Hello\n",
            "10\n",
            "12\n",
            "14\n",
            "16\n",
            "18\n",
            "SUNDAR\n",
            "0\n",
            "1\n",
            "2\n",
            "3\n",
            "4\n",
            "5\n",
            "6\n",
            "7\n",
            "8\n",
            "9\n"
          ]
        }
      ]
    }
  ]
}