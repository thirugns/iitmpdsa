{
  "nbformat": 4,
  "nbformat_minor": 0,
  "metadata": {
    "colab": {
      "provenance": [],
      "authorship_tag": "ABX9TyPLz2MQlkFcY1FN/OaXQesO",
      "include_colab_link": true
    },
    "kernelspec": {
      "name": "python3",
      "display_name": "Python 3"
    },
    "language_info": {
      "name": "python"
    }
  },
  "cells": [
    {
      "cell_type": "markdown",
      "metadata": {
        "id": "view-in-github",
        "colab_type": "text"
      },
      "source": [
        "<a href=\"https://colab.research.google.com/github/thirugns/iitmpdsa/blob/main/Week1.ipynb\" target=\"_parent\"><img src=\"https://colab.research.google.com/assets/colab-badge.svg\" alt=\"Open In Colab\"/></a>"
      ]
    },
    {
      "cell_type": "code",
      "execution_count": null,
      "metadata": {
        "colab": {
          "base_uri": "https://localhost:8080/"
        },
        "id": "p9BYunwtL594",
        "outputId": "c58d1ad1-a64f-4f08-82af-ad8035b77e33"
      },
      "outputs": [
        {
          "output_type": "execute_result",
          "data": {
            "text/plain": [
              "5"
            ]
          },
          "metadata": {},
          "execution_count": 15
        }
      ],
      "source": [
        "def gcd(m,n):\n",
        "  cf=[] #list of common factors\n",
        "  for i in range(1,min(m,n)+1):\n",
        "    if (m%1)==0 and (n%i)==0:\n",
        "      cf.append(i)\n",
        "  return(cf[-1])\n",
        "\n",
        "gcd(10,15)"
      ]
    },
    {
      "cell_type": "code",
      "source": [
        "from types import MemberDescriptorType\n",
        "def gcd2(m,n):\n",
        "  for i in range(1,min(m,n)+1):\n",
        "    if (m%i)==0 and (n%i)==0:\n",
        "      mrcf=i\n",
        "  return(mrcf)\n",
        "\n",
        "gcd2(9,15)"
      ],
      "metadata": {
        "colab": {
          "base_uri": "https://localhost:8080/"
        },
        "id": "vokT5LcEPE9O",
        "outputId": "d67d09aa-5e5d-4431-8848-29781a3f7153"
      },
      "execution_count": null,
      "outputs": [
        {
          "output_type": "execute_result",
          "data": {
            "text/plain": [
              "3"
            ]
          },
          "metadata": {},
          "execution_count": 14
        }
      ]
    }
  ]
}