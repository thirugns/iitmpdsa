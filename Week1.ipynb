{
  "nbformat": 4,
  "nbformat_minor": 0,
  "metadata": {
    "colab": {
      "provenance": [],
      "authorship_tag": "ABX9TyPNLb06OFpTY72pDuxu0Igv",
      "include_colab_link": true
    },
    "kernelspec": {
      "name": "python3",
      "display_name": "Python 3"
    },
    "language_info": {
      "name": "python"
    }
  },
  "cells": [
    {
      "cell_type": "markdown",
      "metadata": {
        "id": "view-in-github",
        "colab_type": "text"
      },
      "source": [
        "<a href=\"https://colab.research.google.com/github/thirugns/iitmpdsa/blob/main/Week1.ipynb\" target=\"_parent\"><img src=\"https://colab.research.google.com/assets/colab-badge.svg\" alt=\"Open In Colab\"/></a>"
      ]
    },
    {
      "cell_type": "markdown",
      "source": [
        "Finding the greatest common divisor of two numbers"
      ],
      "metadata": {
        "id": "2Ri-mARn91-k"
      }
    },
    {
      "cell_type": "code",
      "execution_count": null,
      "metadata": {
        "colab": {
          "base_uri": "https://localhost:8080/"
        },
        "id": "p9BYunwtL594",
        "outputId": "c58d1ad1-a64f-4f08-82af-ad8035b77e33"
      },
      "outputs": [
        {
          "output_type": "execute_result",
          "data": {
            "text/plain": [
              "5"
            ]
          },
          "metadata": {},
          "execution_count": 15
        }
      ],
      "source": [
        "def gcd(m,n):\n",
        "  \"\"\"\n",
        "\n",
        "  Args:\n",
        "    m:\n",
        "    n:\n",
        "\n",
        "  Returns: greatest common divisor of m and n\n",
        "\n",
        "  \"\"\"\n",
        "  cf=[]                               #list of common factors\n",
        "  for i in range(1,min(m,n)+1):\n",
        "    if (m%1)==0 and (n%i)==0:\n",
        "      cf.append(i)\n",
        "  return(cf[-1])\n",
        "\n",
        "gcd(10,15)"
      ]
    },
    {
      "cell_type": "code",
      "source": [
        "def gcd2(m,n):\n",
        "  for i in range(1,min(m,n)+1):\n",
        "    if (m%i)==0 and (n%i)==0:\n",
        "      mrcf=i\n",
        "  return(mrcf)\n",
        "\n",
        "gcd2(200,120)"
      ],
      "metadata": {
        "colab": {
          "base_uri": "https://localhost:8080/"
        },
        "id": "vokT5LcEPE9O",
        "outputId": "cf095fa1-9b36-467c-f0bd-927fc119ab9b"
      },
      "execution_count": null,
      "outputs": [
        {
          "output_type": "execute_result",
          "data": {
            "text/plain": [
              "40"
            ]
          },
          "metadata": {},
          "execution_count": 1
        }
      ]
    },
    {
      "cell_type": "code",
      "source": [
        "import array\n",
        "def twinprimes(m,n):\n",
        "  prime_list=[]\n",
        "  prime_temp=[1]\n",
        "  loopcount=0\n",
        "  for i in range (m,n+1):\n",
        "    loopcount+=1\n",
        "    for j in range(2,i+1):\n",
        "      loopcount+=1\n",
        "      if (i%j)==0:\n",
        "        prime_temp.append(j)\n",
        "        if(len(prime_temp)>2):\n",
        "          break\n",
        "        print(prime_temp)\n",
        "    if (prime_temp==([1,i])):\n",
        "      prime_list.append(prime_temp[-1])\n",
        "      print(loopcount)\n",
        "      print(\"PL:\")\n",
        "      print(prime_list)\n",
        "    prime_temp=[1]\n",
        "  print(loopcount)\n",
        "  print(prime_list)\n",
        "  for x in range(0,len(prime_list)-1):\n",
        "    if((prime_list[x+1]-prime_list[x])==2):\n",
        "      print(prime_list[x],prime_list[x+1])\n",
        "\n",
        "\n",
        "twinprimes(1,97)\n"
      ],
      "metadata": {
        "colab": {
          "base_uri": "https://localhost:8080/"
        },
        "id": "FMrIuzGZS6GE",
        "outputId": "59854d91-bf1f-4186-9e38-feb07bff9d1e"
      },
      "execution_count": 46,
      "outputs": [
        {
          "output_type": "stream",
          "name": "stdout",
          "text": [
            "[1, 2]\n",
            "3\n",
            "PL:\n",
            "[2]\n",
            "[1, 3]\n",
            "6\n",
            "PL:\n",
            "[2, 3]\n",
            "[1, 2]\n",
            "[1, 5]\n",
            "15\n",
            "PL:\n",
            "[2, 3, 5]\n",
            "[1, 2]\n",
            "[1, 7]\n",
            "25\n",
            "PL:\n",
            "[2, 3, 5, 7]\n",
            "[1, 2]\n",
            "[1, 3]\n",
            "[1, 2]\n",
            "[1, 11]\n",
            "54\n",
            "PL:\n",
            "[2, 3, 5, 7, 11]\n",
            "[1, 2]\n",
            "[1, 13]\n",
            "70\n",
            "PL:\n",
            "[2, 3, 5, 7, 11, 13]\n",
            "[1, 2]\n",
            "[1, 3]\n",
            "[1, 2]\n",
            "[1, 17]\n",
            "103\n",
            "PL:\n",
            "[2, 3, 5, 7, 11, 13, 17]\n",
            "[1, 2]\n",
            "[1, 19]\n",
            "125\n",
            "PL:\n",
            "[2, 3, 5, 7, 11, 13, 17, 19]\n",
            "[1, 2]\n",
            "[1, 3]\n",
            "[1, 2]\n",
            "[1, 23]\n",
            "170\n",
            "PL:\n",
            "[2, 3, 5, 7, 11, 13, 17, 19, 23]\n",
            "[1, 2]\n",
            "[1, 5]\n",
            "[1, 2]\n",
            "[1, 3]\n",
            "[1, 2]\n",
            "[1, 29]\n",
            "253\n",
            "PL:\n",
            "[2, 3, 5, 7, 11, 13, 17, 19, 23, 29]\n",
            "[1, 2]\n",
            "[1, 31]\n",
            "287\n",
            "PL:\n",
            "[2, 3, 5, 7, 11, 13, 17, 19, 23, 29, 31]\n",
            "[1, 2]\n",
            "[1, 3]\n",
            "[1, 2]\n",
            "[1, 5]\n",
            "[1, 2]\n",
            "[1, 37]\n",
            "366\n",
            "PL:\n",
            "[2, 3, 5, 7, 11, 13, 17, 19, 23, 29, 31, 37]\n",
            "[1, 2]\n",
            "[1, 3]\n",
            "[1, 2]\n",
            "[1, 41]\n",
            "443\n",
            "PL:\n",
            "[2, 3, 5, 7, 11, 13, 17, 19, 23, 29, 31, 37, 41]\n",
            "[1, 2]\n",
            "[1, 43]\n",
            "489\n",
            "PL:\n",
            "[2, 3, 5, 7, 11, 13, 17, 19, 23, 29, 31, 37, 41, 43]\n",
            "[1, 2]\n",
            "[1, 3]\n",
            "[1, 2]\n",
            "[1, 47]\n",
            "568\n",
            "PL:\n",
            "[2, 3, 5, 7, 11, 13, 17, 19, 23, 29, 31, 37, 41, 43, 47]\n",
            "[1, 2]\n",
            "[1, 7]\n",
            "[1, 2]\n",
            "[1, 3]\n",
            "[1, 2]\n",
            "[1, 53]\n",
            "699\n",
            "PL:\n",
            "[2, 3, 5, 7, 11, 13, 17, 19, 23, 29, 31, 37, 41, 43, 47, 53]\n",
            "[1, 2]\n",
            "[1, 5]\n",
            "[1, 2]\n",
            "[1, 3]\n",
            "[1, 2]\n",
            "[1, 59]\n",
            "824\n",
            "PL:\n",
            "[2, 3, 5, 7, 11, 13, 17, 19, 23, 29, 31, 37, 41, 43, 47, 53, 59]\n",
            "[1, 2]\n",
            "[1, 61]\n",
            "888\n",
            "PL:\n",
            "[2, 3, 5, 7, 11, 13, 17, 19, 23, 29, 31, 37, 41, 43, 47, 53, 59, 61]\n",
            "[1, 2]\n",
            "[1, 3]\n",
            "[1, 2]\n",
            "[1, 5]\n",
            "[1, 2]\n",
            "[1, 67]\n",
            "1013\n",
            "PL:\n",
            "[2, 3, 5, 7, 11, 13, 17, 19, 23, 29, 31, 37, 41, 43, 47, 53, 59, 61, 67]\n",
            "[1, 2]\n",
            "[1, 3]\n",
            "[1, 2]\n",
            "[1, 71]\n",
            "1116\n",
            "PL:\n",
            "[2, 3, 5, 7, 11, 13, 17, 19, 23, 29, 31, 37, 41, 43, 47, 53, 59, 61, 67, 71]\n",
            "[1, 2]\n",
            "[1, 73]\n",
            "1192\n",
            "PL:\n",
            "[2, 3, 5, 7, 11, 13, 17, 19, 23, 29, 31, 37, 41, 43, 47, 53, 59, 61, 67, 71, 73]\n",
            "[1, 2]\n",
            "[1, 3]\n",
            "[1, 2]\n",
            "[1, 7]\n",
            "[1, 2]\n",
            "[1, 79]\n",
            "1331\n",
            "PL:\n",
            "[2, 3, 5, 7, 11, 13, 17, 19, 23, 29, 31, 37, 41, 43, 47, 53, 59, 61, 67, 71, 73, 79]\n",
            "[1, 2]\n",
            "[1, 3]\n",
            "[1, 2]\n",
            "[1, 83]\n",
            "1468\n",
            "PL:\n",
            "[2, 3, 5, 7, 11, 13, 17, 19, 23, 29, 31, 37, 41, 43, 47, 53, 59, 61, 67, 71, 73, 79, 83]\n",
            "[1, 2]\n",
            "[1, 5]\n",
            "[1, 2]\n",
            "[1, 3]\n",
            "[1, 2]\n",
            "[1, 89]\n",
            "1653\n",
            "PL:\n",
            "[2, 3, 5, 7, 11, 13, 17, 19, 23, 29, 31, 37, 41, 43, 47, 53, 59, 61, 67, 71, 73, 79, 83, 89]\n",
            "[1, 2]\n",
            "[1, 7]\n",
            "[1, 2]\n",
            "[1, 3]\n",
            "[1, 2]\n",
            "[1, 5]\n",
            "[1, 2]\n",
            "[1, 97]\n",
            "1870\n",
            "PL:\n",
            "[2, 3, 5, 7, 11, 13, 17, 19, 23, 29, 31, 37, 41, 43, 47, 53, 59, 61, 67, 71, 73, 79, 83, 89, 97]\n",
            "1870\n",
            "[2, 3, 5, 7, 11, 13, 17, 19, 23, 29, 31, 37, 41, 43, 47, 53, 59, 61, 67, 71, 73, 79, 83, 89, 97]\n",
            "3 5\n",
            "5 7\n",
            "11 13\n",
            "17 19\n",
            "29 31\n",
            "41 43\n",
            "59 61\n",
            "71 73\n"
          ]
        }
      ]
    }
  ]
}