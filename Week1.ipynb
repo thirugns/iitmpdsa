{
  "nbformat": 4,
  "nbformat_minor": 0,
  "metadata": {
    "colab": {
      "provenance": [],
      "authorship_tag": "ABX9TyOThYL/v1yIe4CKNbwPP/xy",
      "include_colab_link": true
    },
    "kernelspec": {
      "name": "python3",
      "display_name": "Python 3"
    },
    "language_info": {
      "name": "python"
    }
  },
  "cells": [
    {
      "cell_type": "markdown",
      "metadata": {
        "id": "view-in-github",
        "colab_type": "text"
      },
      "source": [
        "<a href=\"https://colab.research.google.com/github/thirugns/iitmpdsa/blob/main/Week1.ipynb\" target=\"_parent\"><img src=\"https://colab.research.google.com/assets/colab-badge.svg\" alt=\"Open In Colab\"/></a>"
      ]
    },
    {
      "cell_type": "markdown",
      "source": [
        "Finding the greatest common divisor of two numbers"
      ],
      "metadata": {
        "id": "2Ri-mARn91-k"
      }
    },
    {
      "cell_type": "code",
      "execution_count": null,
      "metadata": {
        "colab": {
          "base_uri": "https://localhost:8080/"
        },
        "id": "p9BYunwtL594",
        "outputId": "c58d1ad1-a64f-4f08-82af-ad8035b77e33"
      },
      "outputs": [
        {
          "output_type": "execute_result",
          "data": {
            "text/plain": [
              "5"
            ]
          },
          "metadata": {},
          "execution_count": 15
        }
      ],
      "source": [
        "def gcd(m,n):\n",
        "  \"\"\"\n",
        "\n",
        "  Args:\n",
        "    m:\n",
        "    n:\n",
        "\n",
        "  Returns: greatest common divisor of m and n\n",
        "\n",
        "  \"\"\"\n",
        "  cf=[]                               #list of common factors\n",
        "  for i in range(1,min(m,n)+1):\n",
        "    if (m%1)==0 and (n%i)==0:\n",
        "      cf.append(i)\n",
        "  return(cf[-1])\n",
        "\n",
        "gcd(10,15)"
      ]
    },
    {
      "cell_type": "code",
      "source": [
        "def gcd2(m,n):\n",
        "  for i in range(1,min(m,n)+1):\n",
        "    if (m%i)==0 and (n%i)==0:\n",
        "      mrcf=i\n",
        "  return(mrcf)\n",
        "\n",
        "gcd2(200,120)"
      ],
      "metadata": {
        "colab": {
          "base_uri": "https://localhost:8080/"
        },
        "id": "vokT5LcEPE9O",
        "outputId": "cf095fa1-9b36-467c-f0bd-927fc119ab9b"
      },
      "execution_count": null,
      "outputs": [
        {
          "output_type": "execute_result",
          "data": {
            "text/plain": [
              "40"
            ]
          },
          "metadata": {},
          "execution_count": 1
        }
      ]
    },
    {
      "cell_type": "code",
      "source": [
        "import array\n",
        "def twinprimes(m,n):\n",
        "  prime_list=[]\n",
        "  prime_temp=[1]\n",
        "\n",
        "\n",
        "  for i in range (m,n+1):\n",
        "    for j in range(2,i+1):\n",
        "      if (i%j)==0:\n",
        "        prime_temp.append(j)\n",
        "        if( len(prime_temp) > 1 and prime_temp[-1] != i ):\n",
        "          break\n",
        "    if (prime_temp==([1,i])):\n",
        "      prime_list.append(prime_temp[-1])\n",
        "    prime_temp=[1]\n",
        "  prime_temp=[]\n",
        "  for x in range(0,len(prime_list)-1):\n",
        "    if((prime_list[x+1]-prime_list[x])==2):\n",
        "      prime_temp.append((prime_list[x],prime_list[x+1]))\n",
        "  return(prime_temp)\n",
        "\n",
        "print(twinprimes(1,15))\n"
      ],
      "metadata": {
        "colab": {
          "base_uri": "https://localhost:8080/"
        },
        "id": "FMrIuzGZS6GE",
        "outputId": "d40cd08e-6405-42bc-dd01-88b9f67de9cc"
      },
      "execution_count": 26,
      "outputs": [
        {
          "output_type": "stream",
          "name": "stdout",
          "text": [
            "[(3, 5), (5, 7), (11, 13)]\n"
          ]
        }
      ]
    }
  ]
}